{
 "cells": [
  {
   "cell_type": "code",
   "execution_count": 23,
   "metadata": {},
   "outputs": [
    {
     "name": "stdout",
     "output_type": "stream",
     "text": [
      "['Sky', 'Airtemp', 'Humidity', 'Wind', 'Water', 'Forecast', 'Watersport']\n",
      "['Sunny', 'Warm', 'Normal', 'Strong', 'warm', 'Same', 'Yes']\n",
      "['Sunny', 'Warm', 'High', 'Strong', 'warm', 'Same', 'Yes']\n",
      "['cloudy', 'Cold', 'High', 'Strong', 'warm', 'Change', 'No']\n",
      "['Sunny', 'Warm', 'High', 'Strong', 'cool', 'Change', 'Yes']\n",
      "\n",
      " ['Sunny', 'Warm', 'Normal', 'Strong', 'warm', 'Same', 'Yes']\n",
      "\n",
      " ['Sunny', 'Warm', 'High', 'Strong', 'warm', 'Same', 'Yes']\n",
      "\n",
      " ['Sunny', 'Warm', 'High', 'Strong', 'cool', 'Change', 'Yes']\n",
      "kcsdgcsdgchidj ['%', '%', '%', '%', '%', '%']\n",
      "['Sunny', 'Warm', 'Normal', 'Strong', 'warm', 'Same']\n",
      "['Sunny', 'Warm', '?', 'Strong', 'warm', 'Same']\n",
      "['Sunny', 'Warm', '?', 'Strong', '?', '?']\n",
      "\n",
      "\n",
      "\n",
      "\n",
      "['Sunny', 'Warm', '?', 'Strong', '?', '?']\n"
     ]
    }
   ],
   "source": [
    "import csv\\\n",
    "hypo=['%','%','%','%','%','%']\n",
    "with open('Training2.csv') as csv_file:\n",
    "    rs=csv.reader(csv_file,delimiter=',')\n",
    "    data=[]\n",
    "    for x in rs:\n",
    "        print(x)\n",
    "      \n",
    "        if x[len(x)-1].upper()==\"YES\":\n",
    "            data.append(x)\n",
    "for i in data:\n",
    "    print(\"\\n\",i)\n",
    "TE=len(data)\n",
    "i=0\n",
    "j=0\n",
    "k=0\n",
    "print(\"kcsdgcsdgchidj\",hypo)\n",
    "p=0\n",
    "list=[]\n",
    "d=len(data[p])-1\n",
    "for j in range(d):\n",
    "    list.append(data[i][j])\n",
    "hypo=list\n",
    "i=1\n",
    "for i in range(TE):\n",
    "    for k in range(d):\n",
    "        if hypo[k]!=data[i][k]:\n",
    "            hypo[k]='?'\n",
    "            k=k+1\n",
    "        else:\n",
    "            hypo[k]\n",
    "    print(hypo)        \n",
    "i=i+1\n",
    "list=[]\n",
    "for i in range(d):\n",
    "    list.append(hypo[i])\n",
    "print(\"\\n\\n\\n\")    \n",
    "print(list)    "
   ]
  },
  {
   "cell_type": "code",
   "execution_count": null,
   "metadata": {},
   "outputs": [],
   "source": []
  }
 ],
 "metadata": {
  "kernelspec": {
   "display_name": "Python 3",
   "language": "python",
   "name": "python3"
  },
  "language_info": {
   "codemirror_mode": {
    "name": "ipython",
    "version": 3
   },
   "file_extension": ".py",
   "mimetype": "text/x-python",
   "name": "python",
   "nbconvert_exporter": "python",
   "pygments_lexer": "ipython3",
   "version": "3.6.8"
  }
 },
 "nbformat": 4,
 "nbformat_minor": 2
}
