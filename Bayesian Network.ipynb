{
 "cells": [
  {
   "cell_type": "code",
   "execution_count": 17,
   "metadata": {},
   "outputs": [
    {
     "name": "stdout",
     "output_type": "stream",
     "text": [
      "Iteration 1: loglike=-6.453500e+00 (0.010 seconds)\n",
      "Iteration 2: loglike=-6.453500e+00 (0.008 seconds)\n",
      "Converged at iteration 2.\n",
      "P(asia): 0.9523809523809524\n",
      "P(tuberculosis): 1.0\n",
      "P(smoking): 0.0\n",
      "P(lung): 0.02\n",
      "P(bronchitis): 1.0\n",
      "P(xray): 0.885\n",
      "P(dyspnea): 0.96\n"
     ]
    },
    {
     "name": "stderr",
     "output_type": "stream",
     "text": [
      "/root/anaconda3/lib/python3.7/site-packages/bayespy/inference/vmp/nodes/categorical.py:107: FutureWarning: Using a non-tuple sequence for multidimensional indexing is deprecated; use `arr[tuple(seq)]` instead of `arr[seq]`. In the future this will be interpreted as an array index, `arr[np.array(seq)]`, which will result either in an error or a different result.\n",
      "  u0[[np.arange(np.size(x)), np.ravel(x)]] = 1\n"
     ]
    }
   ],
   "source": [
    "#Baysian network with medical data\n",
    "from bayespy.nodes import Categorical, Mixture\n",
    "from bayespy.inference import VB\n",
    "import numpy as np\n",
    "FALSE = 0\n",
    "TRUE = 1\n",
    "\n",
    "def _or(p_false, p_true):\n",
    "    return np.take([p_false, p_true], [[FALSE, TRUE], [TRUE, TRUE]], axis=0)\n",
    "\n",
    "asia = Categorical([0.5, 0.5])\n",
    "tuberculosis = Mixture(asia, Categorical, [[0.99, 0.01], [0.8, 0.2]])\n",
    "smoking = Categorical([0.5, 0.5])\n",
    "lung = Mixture(smoking, Categorical, [[0.98, 0.02], [0.25, 0.75]])\n",
    "bronchitis = Mixture(smoking, Categorical, [[0.97, 0.03], [0.08, 0.92]])\n",
    "xray = Mixture(tuberculosis, Mixture, lung, Categorical,\n",
    "               _or([0.96, 0.04], [0.115, 0.885]))\n",
    "dyspnea = Mixture(bronchitis, Mixture, tuberculosis, Mixture, lung, Categorical,\n",
    "                  [_or([0.6, 0.4], [0.18, 0.82]),\n",
    "                   _or([0.11, 0.89], [0.04, 0.96])])\n",
    "\n",
    "# Mark observations\n",
    "tuberculosis.observe(TRUE)\n",
    "smoking.observe(FALSE)\n",
    "\n",
    "# not a \"chance\" observation as in the original example\n",
    "bronchitis.observe(TRUE) \n",
    "\n",
    "# Run inference\n",
    "Q = VB(dyspnea, xray, bronchitis, lung, smoking, tuberculosis, asia)\n",
    "Q.update(repeat=100)\n",
    "\n",
    "# Show results\n",
    "print(\"P(asia):\", asia.get_moments()[0][TRUE])\n",
    "print(\"P(tuberculosis):\", tuberculosis.get_moments()[0][TRUE])\n",
    "print(\"P(smoking):\", smoking.get_moments()[0][TRUE])\n",
    "print(\"P(lung):\", lung.get_moments()[0][TRUE])\n",
    "print(\"P(bronchitis):\", bronchitis.get_moments()[0][TRUE])\n",
    "print(\"P(xray):\", xray.get_moments()[0][TRUE])\n",
    "print(\"P(dyspnea):\", dyspnea.get_moments()[0][TRUE])"
   ]
  },
  {
   "cell_type": "code",
   "execution_count": null,
   "metadata": {},
   "outputs": [],
   "source": []
  }
 ],
 "metadata": {
  "kernelspec": {
   "display_name": "Python 3",
   "language": "python",
   "name": "python3"
  },
  "language_info": {
   "codemirror_mode": {
    "name": "ipython",
    "version": 3
   },
   "file_extension": ".py",
   "mimetype": "text/x-python",
   "name": "python",
   "nbconvert_exporter": "python",
   "pygments_lexer": "ipython3",
   "version": "3.6.8"
  }
 },
 "nbformat": 4,
 "nbformat_minor": 2
}
