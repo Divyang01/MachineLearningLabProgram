{
 "cells": [
  {
   "cell_type": "code",
   "execution_count": 3,
   "metadata": {},
   "outputs": [
    {
     "name": "stdout",
     "output_type": "stream",
     "text": [
      "Actual values: [ 5  5 10 10 10]\n",
      "Predictions: [5, 5, 5, 10, 10]\n",
      "accuracy is 80.0 %\n"
     ]
    }
   ],
   "source": [
    "import pandas as pd\n",
    "import random\n",
    "import math\n",
    "import operator\n",
    "import numpy as np\n",
    "\n",
    "def safe_div(x,y):\n",
    "    if y == 0:\n",
    "        return 0\n",
    "    return x / y\n",
    "\n",
    "def splitDataset(dataset, splitRatio):\n",
    "\tsplit = int(len(dataset)*splitRatio)\n",
    "\treturn dataset.iloc[split:], dataset.iloc[:split]\n",
    "   \n",
    "      \n",
    "def calculateProbability(x, mean, stdev):\t\n",
    "\texponent = math.exp(-safe_div(math.pow(x-mean,2),(2*math.pow(stdev,2))))\n",
    "\tfinal = safe_div(1 , (math.sqrt(2*math.pi) * stdev)) * exponent\n",
    "\treturn final\n",
    " \n",
    "def calculateClassProbabilities(summaries, inputVector):\n",
    "\tpro={}\n",
    "\tfor index in summaries.index:\n",
    "\t\tpro[index]=1\n",
    "\t\tfor x in inputVector.index :\n",
    "\t\t\tpro[index] *= calculateProbability(inputVector[x] , summaries[x][\"mean\"][index] ,summaries[x][\"std\"][index] )\n",
    "\treturn pro\n",
    "\n",
    "def predict(summaries, inputVector):\n",
    "\tprobabilities = calculateClassProbabilities(summaries, inputVector)\n",
    "\tbestLabel, bestProb = None, -1\n",
    "\tfor classValue, probability in probabilities.items():\n",
    "\t\tif probability > bestProb:\n",
    "\t\t\tbestProb = probability\n",
    "\t\t\tbestLabel = classValue\n",
    "\treturn bestLabel\n",
    "\n",
    "def getPredictions(summaries, testSet):\n",
    "\tpredictions = [];\n",
    "\tfor i in range(len(testSet)):\n",
    "\t\tresult = predict(summaries, testSet.iloc[i])\n",
    "\t\tpredictions.append(result);\n",
    "\treturn predictions\n",
    "\n",
    "\n",
    "def getAccuracy(actual, predictions):\n",
    "    return 100 * (np.array(actual)==np.array(predictions)).sum() / len(actual)\n",
    "    \n",
    "filename = 'ConceptLearning.csv'\n",
    "dataset = pd.read_csv(filename,names=[\"OUTLOOK\",\"TEMPERATURE\",\"HUMIDITY\",\"WIND\",\"TARGET\"])\n",
    "trainingSet, testSet = splitDataset(dataset, splitRatio=0.5)\n",
    "\n",
    "summaries = dataset.groupby(by=\"TARGET\").aggregate([np.mean,np.std])\n",
    "# test model\n",
    "predictions = getPredictions(summaries, testSet.iloc[:,:-1])\n",
    "actual = testSet.iloc[:,-1].values\n",
    "print('Actual values: {0}'.format(actual))\n",
    "print('Predictions: {0}'.format(predictions))\n",
    "print(\"accuracy is {0} %\".format(getAccuracy(actual,predictions)))\n"
   ]
  },
  {
   "cell_type": "code",
   "execution_count": null,
   "metadata": {},
   "outputs": [],
   "source": []
  }
 ],
 "metadata": {
  "kernelspec": {
   "display_name": "Python 3",
   "language": "python",
   "name": "python3"
  },
  "language_info": {
   "codemirror_mode": {
    "name": "ipython",
    "version": 3
   },
   "file_extension": ".py",
   "mimetype": "text/x-python",
   "name": "python",
   "nbconvert_exporter": "python",
   "pygments_lexer": "ipython3",
   "version": "3.7.0"
  }
 },
 "nbformat": 4,
 "nbformat_minor": 2
}
