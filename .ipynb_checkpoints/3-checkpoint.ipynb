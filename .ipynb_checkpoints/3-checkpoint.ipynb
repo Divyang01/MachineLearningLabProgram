{
 "cells": [
  {
   "cell_type": "code",
   "execution_count": 50,
   "metadata": {},
   "outputs": [
    {
     "name": "stdout",
     "output_type": "stream",
     "text": [
      "    id   outlook temperature humidity    wind play\n",
      "0    1     sunny         hot     high    weak   no\n",
      "1    2     sunny         hot     high  strong   no\n",
      "2    3  overcast         hot     high    weak  yes\n",
      "3    4     rainy        mild     high    weak  yes\n",
      "4    5     rainy        cool   normal    weak  yes\n",
      "5    6     rainy        cool   normal  strong   no\n",
      "6    7  overcast        cool   normal  strong  yes\n",
      "7    8     sunny        mild     high    weak   no\n",
      "8    9     sunny        cool   normal    weak  yes\n",
      "9   10     rainy        mild   normal    weak  yes\n",
      "10  11     sunny        mild   normal  strong  yes\n",
      "11  12  overcast        mild     high  strong  yes\n",
      "12  13  overcast         hot   normal    weak  yes\n",
      "13  14     rainy        mild     high  strong   no\n",
      "0.9402859586706309\n",
      "\n",
      "\n",
      " The Result Decision Tree: \n",
      "\n",
      "{'id': {1: 'no',\n",
      "        2: 'no',\n",
      "        3: 'yes',\n",
      "        4: 'yes',\n",
      "        5: 'yes',\n",
      "        6: 'no',\n",
      "        7: 'yes',\n",
      "        8: 'no',\n",
      "        9: 'yes',\n",
      "        10: 'yes',\n",
      "        11: 'yes',\n",
      "        12: 'yes',\n",
      "        13: 'yes',\n",
      "        14: 'no'}}\n"
     ]
    }
   ],
   "source": [
    "import pandas as pd\n",
    "from pandas import DataFrame\n",
    "from pprint import pprint\n",
    "from collections import Counter\n",
    "import math    \n",
    "df_tennis=pd.DataFrame(data=pd.read_csv('weather.csv'))\n",
    "print(df_tennis)\n",
    "def entropy(probs):\n",
    "    \n",
    "    return sum([-prob*math.log(prob,2) for prob in probs])\n",
    "def entropy_of_list(a_list):\n",
    "   \n",
    "    cnt=Counter(x for x in a_list)\n",
    "    num_instances=len(a_list)*1.0\n",
    "    probs=[x/num_instances for x in cnt.values()]\n",
    "    return entropy(probs)\n",
    "total_entropy=entropy_of_list(df_tennis['play'])\n",
    "print(total_entropy)\n",
    "def information_gain(df,split_attributes_name,target_attribute_name,trace=0):\n",
    "    df_split=df.groupby(split_attributes_name)\n",
    "    nobs=len(df.index)*1.0\n",
    "    df_agg_ent=df_split.agg({target_attribute_name:[entropy_of_list,lambda x:len(x)/nobs]})[target_attribute_name]\n",
    "    df_agg_ent.columns=['Entropy','PropObservations']\n",
    "    new_entropy=sum(df_agg_ent['Entropy'] * df_agg_ent['PropObservations'])\n",
    "    old_entropy=entropy_of_list(df[target_attribute_name])\n",
    "    return old_entropy-new_entropy\n",
    "def id3(df,target_attribute_name,attribute_names,default_class=None):\n",
    "    #from collections import Counter\n",
    "    cnt=Counter(x for x in df[target_attribute_name])\n",
    "    if len(cnt)==1:\n",
    "        return next(iter(cnt))\n",
    "    elif df.empty or (not attribute_names):\n",
    "        return default_class\n",
    "    else:\n",
    "        default_class=max(cnt.keys())\n",
    "        gainz=[information_gain(df,attr,target_attribute_name) for attr in attribute_names]\n",
    "        index_of_max=gainz.index(max(gainz))\n",
    "        best_attr=attribute_names[index_of_max]\n",
    "        tree={best_attr:{}}\n",
    "        remaining_attribute_names=[i for i in attribute_names if i!=best_attr]\n",
    "        for attr_val,data_subset in df.groupby(best_attr):\n",
    "            subtree=id3(data_subset,target_attribute_name,remaining_attribute_names,default_class)\n",
    "            tree[best_attr][attr_val]=subtree\n",
    "        return tree\n",
    "#attribute_names=list(df_tennis.columns)\n",
    "#attribute_names.remove('play')\n",
    "tree=id3(df_tennis,'play',attribute_names)\n",
    "print(\"\\n\\n The Result Decision Tree: \\n\")\n",
    "pprint(tree)"
   ]
  },
  {
   "cell_type": "code",
   "execution_count": null,
   "metadata": {},
   "outputs": [],
   "source": []
  },
  {
   "cell_type": "code",
   "execution_count": null,
   "metadata": {},
   "outputs": [],
   "source": []
  }
 ],
 "metadata": {
  "kernelspec": {
   "display_name": "Python 3",
   "language": "python",
   "name": "python3"
  },
  "language_info": {
   "codemirror_mode": {
    "name": "ipython",
    "version": 3
   },
   "file_extension": ".py",
   "mimetype": "text/x-python",
   "name": "python",
   "nbconvert_exporter": "python",
   "pygments_lexer": "ipython3",
   "version": "3.7.0"
  }
 },
 "nbformat": 4,
 "nbformat_minor": 2
}
