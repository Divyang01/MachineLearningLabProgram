{
 "cells": [
  {
   "cell_type": "code",
   "execution_count": 8,
   "metadata": {},
   "outputs": [
    {
     "ename": "IndentationError",
     "evalue": "unindent does not match any outer indentation level (<ipython-input-8-c3deea6d0df2>, line 34)",
     "output_type": "error",
     "traceback": [
      "\u001b[0;36m  File \u001b[0;32m\"<ipython-input-8-c3deea6d0df2>\"\u001b[0;36m, line \u001b[0;32m34\u001b[0m\n\u001b[0;31m    k=k+1;\u001b[0m\n\u001b[0m          ^\u001b[0m\n\u001b[0;31mIndentationError\u001b[0m\u001b[0;31m:\u001b[0m unindent does not match any outer indentation level\n"
     ]
    }
   ],
   "source": [
    "import csv\n",
    "#! user/bin/python\n",
    "#list creation\n",
    "hypo=['%','%','%','%','%','%'];\n",
    "with open('training_example.csv')as csv_file:\n",
    "\treadcsv=csv.reader(csv_file,delimiter=',')\n",
    "\tprint(readcsv)\n",
    "\tdata=[]\n",
    "\tprint(\" The given training example are:\")\n",
    "\tfor row in readcsv:\n",
    "\t\tprint(row)\n"
   ]
  },
  {
   "cell_type": "code",
   "execution_count": null,
   "metadata": {},
   "outputs": [],
   "source": []
  },
  {
   "cell_type": "code",
   "execution_count": null,
   "metadata": {},
   "outputs": [],
   "source": []
  },
  {
   "cell_type": "code",
   "execution_count": null,
   "metadata": {},
   "outputs": [],
   "source": []
  },
  {
   "cell_type": "code",
   "execution_count": 9,
   "metadata": {},
   "outputs": [
    {
     "name": "stdout",
     "output_type": "stream",
     "text": [
      "<_csv.reader object at 0x7f74c830e358>\n",
      " The given training example are:\n",
      "['Sky', 'Airtemp', 'Humidity', 'Wind', 'Water', 'Forecast', 'Watersport']\n",
      "['Sunny', 'Warm', 'Normal', 'Strong', 'warm', 'Same', 'Yes']\n",
      "['Sunny', 'Warm', 'High', 'Strong', 'warm', 'Same', 'Yes']\n",
      "['rainy', 'Cold', 'High', 'Strong', 'warm', 'Change', 'No']\n",
      "['Sunny', 'Warm', 'High', 'Strong', 'cool', 'Change', 'Yes']\n"
     ]
    }
   ],
   "source": [
    "import csv\n",
    "#! user/bin/python\n",
    "#list creation\n",
    "hypo=['%','%','%','%','%','%'];\n",
    "with open('training_example.csv')as csv_file:\n",
    "\treadcsv=csv.reader(csv_file,delimiter=',')\n",
    "\tprint(readcsv)\n",
    "\tdata=[]\n",
    "\tprint(\" The given training example are:\")\n",
    "\tfor row in readcsv:\n",
    "\t\tprint(row)"
   ]
  },
  {
   "cell_type": "code",
   "execution_count": 11,
   "metadata": {},
   "outputs": [
    {
     "name": "stdout",
     "output_type": "stream",
     "text": [
      "<_csv.reader object at 0x7f74c830e358>\n"
     ]
    }
   ],
   "source": [
    "import csv\n",
    "#! user/bin/python\n",
    "#list creation\n",
    "hypo=['%','%','%','%','%','%'];\n",
    "with open('training_example.csv')as csv_file:\n",
    "\treadcsv=csv.reader(csv_file,delimiter=',')\n",
    "\tprint(readcsv)"
   ]
  },
  {
   "cell_type": "code",
   "execution_count": 12,
   "metadata": {},
   "outputs": [
    {
     "name": "stdout",
     "output_type": "stream",
     "text": [
      "<_csv.reader object at 0x7f74c830e898>\n"
     ]
    }
   ],
   "source": [
    "import csv\n",
    "hypo =['%','%','%','%','%','%'];\n",
    "with open('training_example.csv') as csv_file:\n",
    "    csvread=csv.reader(csv_file,delimiter=',')\n",
    "    print(csvread)"
   ]
  },
  {
   "cell_type": "code",
   "execution_count": 13,
   "metadata": {},
   "outputs": [
    {
     "name": "stdout",
     "output_type": "stream",
     "text": [
      "the given traning example\n"
     ]
    }
   ],
   "source": [
    "data=[]\n",
    "print(\"the given traning example\")"
   ]
  },
  {
   "cell_type": "code",
   "execution_count": 14,
   "metadata": {},
   "outputs": [
    {
     "ename": "ValueError",
     "evalue": "I/O operation on closed file.",
     "output_type": "error",
     "traceback": [
      "\u001b[0;31m---------------------------------------------------------------------------\u001b[0m",
      "\u001b[0;31mValueError\u001b[0m                                Traceback (most recent call last)",
      "\u001b[0;32m<ipython-input-14-660447ca7f99>\u001b[0m in \u001b[0;36m<module>\u001b[0;34m()\u001b[0m\n\u001b[0;32m----> 1\u001b[0;31m \u001b[0;32mfor\u001b[0m \u001b[0mrow\u001b[0m \u001b[0;32min\u001b[0m \u001b[0mcsvread\u001b[0m\u001b[0;34m:\u001b[0m\u001b[0;34m\u001b[0m\u001b[0m\n\u001b[0m\u001b[1;32m      2\u001b[0m     \u001b[0mprint\u001b[0m\u001b[0;34m(\u001b[0m\u001b[0mrow\u001b[0m\u001b[0;34m)\u001b[0m\u001b[0;34m\u001b[0m\u001b[0m\n",
      "\u001b[0;31mValueError\u001b[0m: I/O operation on closed file."
     ]
    }
   ],
   "source": [
    "for row in csvread:\n",
    "    print(row)"
   ]
  },
  {
   "cell_type": "code",
   "execution_count": 20,
   "metadata": {},
   "outputs": [
    {
     "name": "stdout",
     "output_type": "stream",
     "text": [
      "the given traning example\n",
      "['Sky', 'Airtemp', 'Humidity', 'Wind', 'Water', 'Forecast', 'Watersport']\n",
      "['Sunny', 'Warm', 'Normal', 'Strong', 'warm', 'Same', 'Yes']\n",
      "['Sunny', 'Warm', 'High', 'Strong', 'warm', 'Same', 'Yes']\n",
      "['rainy', 'Cold', 'High', 'Strong', 'warm', 'Change', 'No']\n",
      "['Sunny', 'Warm', 'High', 'Strong', 'cool', 'Change', 'Yes']\n",
      "\n",
      " the positive example\n",
      "[['Sunny', 'Warm', 'Normal', 'Strong', 'warm', 'Same', 'Yes'], ['Sunny', 'Warm', 'High', 'Strong', 'warm', 'Same', 'Yes'], ['Sunny', 'Warm', 'High', 'Strong', 'cool', 'Change', 'Yes']]\n"
     ]
    }
   ],
   "source": [
    "import csv\n",
    "hypo =['%','%','%','%','%','%'];\n",
    "with open('training_example.csv') as csv_file:\n",
    "    csvread=csv.reader(csv_file,delimiter=',')\n",
    "   # print(csvread)\n",
    "    data=[]\n",
    "    print(\"the given traning example\")\n",
    "    for row in csvread:\n",
    "        print(row)\n",
    "        if row[len(row)-1].upper()==\"YES\":\n",
    "            data.append(row)\n",
    "print(\"\\n the positive example\")\n",
    "print(data)\n",
    "#for x in data:\n",
    "  #  print(x)"
   ]
  },
  {
   "cell_type": "code",
   "execution_count": 21,
   "metadata": {},
   "outputs": [
    {
     "name": "stdout",
     "output_type": "stream",
     "text": [
      "the step to find the hypothesis ['%', '%', '%', '%', '%', '%']\n"
     ]
    }
   ],
   "source": [
    "te=len(data)\n",
    "i=0;\n",
    "k=0;\n",
    "j=0;\n",
    "print(\"the step to find the hypothesis\",hypo)\n"
   ]
  },
  {
   "cell_type": "code",
   "execution_count": 22,
   "metadata": {},
   "outputs": [
    {
     "name": "stdout",
     "output_type": "stream",
     "text": [
      "['Sunny', 'Warm', 'Normal', 'Strong', 'warm', 'Same']\n"
     ]
    }
   ],
   "source": [
    "list=[];\n",
    "p=0;\n",
    "d=len(data[p])-1;\n",
    "for j in range(d):\n",
    "    list.append(data[i][j])\n",
    "print(list)"
   ]
  },
  {
   "cell_type": "code",
   "execution_count": 26,
   "metadata": {},
   "outputs": [
    {
     "name": "stdout",
     "output_type": "stream",
     "text": [
      "['Sunny', 'Warm', '?', 'Strong', '?', '?']\n",
      "['Sunny', 'Warm', '?', 'Strong', '?', '?']\n",
      "['Sunny', 'Warm', '?', 'Strong', '?', '?']\n"
     ]
    }
   ],
   "source": [
    "hypo=list;\n",
    "i=1;\n",
    "for i in range(te):\n",
    "    for k in range(d):\n",
    "        if hypo[k]!=data[i][k]:\n",
    "            hypo[k]='?'\n",
    "            k=k+1;\n",
    "        else:\n",
    "            hypo[k];\n",
    "    print(hypo)        "
   ]
  },
  {
   "cell_type": "code",
   "execution_count": 29,
   "metadata": {},
   "outputs": [
    {
     "name": "stdout",
     "output_type": "stream",
     "text": [
      "the maximally specific find s\n",
      "['Sunny', 'Warm', '?', 'Strong', '?', '?']\n"
     ]
    }
   ],
   "source": [
    "i=i+1;\n",
    "print(\"the maximally specific find s\")\n",
    "list=[]\n",
    "for i in range(d):\n",
    "    list.append(hypo[i])\n",
    "print(list)"
   ]
  },
  {
   "cell_type": "code",
   "execution_count": null,
   "metadata": {},
   "outputs": [],
   "source": []
  }
 ],
 "metadata": {
  "kernelspec": {
   "display_name": "Python 3",
   "language": "python",
   "name": "python3"
  },
  "language_info": {
   "codemirror_mode": {
    "name": "ipython",
    "version": 3
   },
   "file_extension": ".py",
   "mimetype": "text/x-python",
   "name": "python",
   "nbconvert_exporter": "python",
   "pygments_lexer": "ipython3",
   "version": "3.7.0"
  }
 },
 "nbformat": 4,
 "nbformat_minor": 2
}
