{
 "cells": [
  {
   "cell_type": "code",
   "execution_count": 20,
   "metadata": {},
   "outputs": [
    {
     "name": "stdout",
     "output_type": "stream",
     "text": [
      "\n",
      "\n",
      "Decision Tree\n",
      "\n",
      "\n",
      "\n",
      "{'outlook': {'overcast': 'yes',\n",
      "             'rainy': {'wind': {'strong': 'no', 'weak': 'yes'}},\n",
      "             'sunny': {'humidity': {'high': 'no', 'normal': 'yes'}}}}\n"
     ]
    }
   ],
   "source": [
    "import pandas as pd\n",
    "from pandas import DataFrame\n",
    "from collections import Counter\n",
    "import math\n",
    "dt=pd.DataFrame(data=pd.read_csv('weather.csv'))\n",
    "def entropy(probs):\n",
    "    return sum([-prob*math.log(prob,2) for prob in probs])\n",
    "def eol(a_list):\n",
    "    cnt=Counter(x for x in a_list)\n",
    "    no=len(a_list)*1.0\n",
    "    probs=[x/no for x in cnt.values()]\n",
    "    return entropy(probs)\n",
    "TE=eol(dt['play'])\n",
    "def IG(df,split,tan,trace=0):\n",
    "    dfs=df.groupby(split)\n",
    "    no=len(df.index)*1.0\n",
    "    xx=dfs.agg({tan:[eol,lambda x:len(x)/no]})[tan]\n",
    "    xx.columns=['Entropy','propobservation']\n",
    "    ne=sum(xx['Entropy']*xx['propobservation'])\n",
    "    oe=eol(df[tan])\n",
    "    return oe-ne\n",
    "def id3(df,tan,at,default_class=None):\n",
    "    cnt=Counter(x for x in df[tan])\n",
    "    if len(cnt)==1:\n",
    "        return next(iter(cnt))\n",
    "    elif df.empty or (not at):\n",
    "        return default_class\n",
    "    else:\n",
    "        default_class=max(cnt.keys())\n",
    "        z=[IG(df,att,tan) for att in at]\n",
    "        IMax=z.index(max(z))\n",
    "        bt=at[IMax]\n",
    "        tree={bt:{}}\n",
    "        rt=[i for i in at if i!=bt]\n",
    "        for x,d in df.groupby(bt):\n",
    "            st=id3(d,tan,rt,default_class)\n",
    "            tree[bt][x]=st\n",
    "        return tree\n",
    "a=list(dt.columns)\n",
    "a.remove('play')\n",
    "tree=id3(dt,'play',a)\n",
    "print(\"\\n\\nDecision Tree\\n\\n\\n\")\n",
    "from pprint import pprint\n",
    "pprint(tree)"
   ]
  },
  {
   "cell_type": "code",
   "execution_count": null,
   "metadata": {},
   "outputs": [],
   "source": []
  }
 ],
 "metadata": {
  "kernelspec": {
   "display_name": "Python 3",
   "language": "python",
   "name": "python3"
  },
  "language_info": {
   "codemirror_mode": {
    "name": "ipython",
    "version": 3
   },
   "file_extension": ".py",
   "mimetype": "text/x-python",
   "name": "python",
   "nbconvert_exporter": "python",
   "pygments_lexer": "ipython3",
   "version": "3.7.0"
  }
 },
 "nbformat": 4,
 "nbformat_minor": 2
}
