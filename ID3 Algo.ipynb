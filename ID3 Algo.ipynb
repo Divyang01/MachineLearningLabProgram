{
 "cells": [
  {
   "cell_type": "code",
   "execution_count": 1,
   "metadata": {},
   "outputs": [
    {
     "name": "stdout",
     "output_type": "stream",
     "text": [
      "     outlook temperature humidity    wind play\n",
      "0      sunny         hot     high    weak   no\n",
      "1      sunny         hot     high  strong   no\n",
      "2   overcast         hot     high    weak  yes\n",
      "3      rainy        mild     high    weak  yes\n",
      "4      rainy        cool   normal    weak  yes\n",
      "5      rainy        cool   normal  strong   no\n",
      "6   overcast        cool   normal  strong  yes\n",
      "7      sunny        mild     high    weak   no\n",
      "8      sunny        cool   normal    weak  yes\n",
      "9      rainy        mild   normal    weak  yes\n",
      "10     sunny        mild   normal  strong  yes\n",
      "11  overcast        mild     high  strong  yes\n",
      "12  overcast         hot   normal    weak  yes\n",
      "13     rainy        mild     high  strong   no\n",
      "0.9402859586706309\n",
      "['outlook', 'temperature', 'humidity', 'wind']\n",
      "Counter({'yes': 9, 'no': 5})\n",
      "Counter({'yes': 4})\n",
      "Counter({'yes': 3, 'no': 2})\n",
      "Counter({'no': 2})\n",
      "Counter({'yes': 3})\n",
      "Counter({'no': 3, 'yes': 2})\n",
      "Counter({'no': 3})\n",
      "Counter({'yes': 2})\n",
      "\n",
      "\n",
      " The Result Decision Tree: \n",
      "\n",
      "{'outlook': {'overcast': 'yes',\n",
      "             'rainy': {'wind': {'strong': 'no', 'weak': 'yes'}},\n",
      "             'sunny': {'humidity': {'high': 'no', 'normal': 'yes'}}}}\n"
     ]
    }
   ],
   "source": [
    "import pandas as pd\n",
    "from pandas import DataFrame\n",
    "from pprint import pprint\n",
    "from collections import Counter\n",
    "import math    \n",
    "df_tennis=pd.DataFrame(data=pd.read_csv('weather.csv'))\n",
    "print(df_tennis)\n",
    "\n",
    "def entropy(probs):\n",
    "    \n",
    "    return sum([-prob*math.log(prob,2) for prob in probs])\n",
    "def entropy_of_list(a_list):\n",
    "   \n",
    "    cnt=Counter(x for x in a_list)\n",
    "    num_instances=len(a_list)*1.0\n",
    "    probs=[x/num_instances for x in cnt.values()]\n",
    "    return entropy(probs)\n",
    "total_entropy=entropy_of_list(df_tennis['play'])\n",
    "print(total_entropy)\n",
    "def information_gain(df,split_attributes_name,target_attribute_name,trace=0):\n",
    "    df_split=df.groupby(split_attributes_name)\n",
    "    nobs=len(df.index)*1.0\n",
    "    df_agg_ent=df_split.agg({target_attribute_name:[entropy_of_list,lambda x:len(x)/nobs]})[target_attribute_name]\n",
    "    df_agg_ent.columns=['Entropy','PropObservations']\n",
    "    new_entropy=sum(df_agg_ent['Entropy'] * df_agg_ent['PropObservations'])\n",
    "    old_entropy=entropy_of_list(df[target_attribute_name])\n",
    "    return old_entropy-new_entropy\n",
    "def id3(df,target_attribute_name,attribute_names,default_class=None):\n",
    "    #from collections import Counter\n",
    "    cnt=Counter(x for x in df[target_attribute_name])\n",
    "    print(cnt)\n",
    "    if len(cnt)==1:\n",
    "        return next(iter(cnt))\n",
    "    elif df.empty or (not attribute_names):\n",
    "        return default_class\n",
    "    else:\n",
    "        default_class=max(cnt.keys())\n",
    "        gainz=[information_gain(df,attr,target_attribute_name) for attr in attribute_names]\n",
    "        index_of_max=gainz.index(max(gainz))\n",
    "        best_attr=attribute_names[index_of_max]\n",
    "        tree={best_attr:{}}\n",
    "        remaining_attribute_names=[i for i in attribute_names if i!=best_attr]\n",
    "        for attr_val,data_subset in df.groupby(best_attr):\n",
    "            subtree=id3(data_subset,target_attribute_name,remaining_attribute_names,default_class)\n",
    "            tree[best_attr][attr_val]=subtree\n",
    "        return tree\n",
    "a=list(df_tennis.columns)\n",
    "a.remove('play')\n",
    "print(a)\n",
    "tree=id3(df_tennis,'play',a)\n",
    "print(\"\\n\\n The Result Decision Tree: \\n\")\n",
    "pprint(tree)"
   ]
  },
  {
   "cell_type": "code",
   "execution_count": null,
   "metadata": {},
   "outputs": [],
   "source": []
  },
  {
   "cell_type": "code",
   "execution_count": null,
   "metadata": {},
   "outputs": [],
   "source": []
  }
 ],
 "metadata": {
  "kernelspec": {
   "display_name": "Python 3",
   "language": "python",
   "name": "python3"
  },
  "language_info": {
   "codemirror_mode": {
    "name": "ipython",
    "version": 3
   },
   "file_extension": ".py",
   "mimetype": "text/x-python",
   "name": "python",
   "nbconvert_exporter": "python",
   "pygments_lexer": "ipython3",
   "version": "3.7.0"
  }
 },
 "nbformat": 4,
 "nbformat_minor": 2
}
