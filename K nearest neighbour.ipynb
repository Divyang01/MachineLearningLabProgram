{
 "cells": [
  {
   "cell_type": "code",
   "execution_count": 4,
   "metadata": {},
   "outputs": [
    {
     "name": "stdout",
     "output_type": "stream",
     "text": [
      "1.0\n",
      "              precision    recall  f1-score   support\n",
      "\n",
      "           0       1.00      1.00      1.00        14\n",
      "           1       1.00      1.00      1.00        13\n",
      "           2       1.00      1.00      1.00        11\n",
      "\n",
      "   micro avg       1.00      1.00      1.00        38\n",
      "   macro avg       1.00      1.00      1.00        38\n",
      "weighted avg       1.00      1.00      1.00        38\n",
      "\n",
      "correct prediction 2 verginica\n",
      "correct prediction 1 versicolor\n",
      "correct prediction 0 setosha\n",
      "correct prediction 0 setosha\n",
      "correct prediction 2 verginica\n",
      "correct prediction 1 versicolor\n",
      "correct prediction 1 versicolor\n",
      "correct prediction 0 setosha\n",
      "correct prediction 1 versicolor\n",
      "correct prediction 2 verginica\n",
      "correct prediction 0 setosha\n",
      "correct prediction 0 setosha\n",
      "correct prediction 1 versicolor\n",
      "correct prediction 2 verginica\n",
      "correct prediction 2 verginica\n",
      "correct prediction 1 versicolor\n",
      "correct prediction 0 setosha\n",
      "correct prediction 2 verginica\n",
      "correct prediction 0 setosha\n",
      "correct prediction 0 setosha\n",
      "correct prediction 0 setosha\n",
      "correct prediction 2 verginica\n",
      "correct prediction 0 setosha\n",
      "correct prediction 0 setosha\n",
      "correct prediction 1 versicolor\n",
      "correct prediction 1 versicolor\n",
      "correct prediction 2 verginica\n",
      "correct prediction 0 setosha\n",
      "correct prediction 2 verginica\n",
      "correct prediction 2 verginica\n",
      "correct prediction 2 verginica\n",
      "correct prediction 0 setosha\n",
      "correct prediction 0 setosha\n",
      "correct prediction 1 versicolor\n",
      "correct prediction 1 versicolor\n",
      "correct prediction 1 versicolor\n",
      "correct prediction 1 versicolor\n",
      "correct prediction 1 versicolor\n"
     ]
    }
   ],
   "source": [
    "from sklearn import datasets\n",
    "from sklearn.neighbors import KNeighborsClassifier\n",
    "from sklearn.model_selection import train_test_split\n",
    "from sklearn.metrics import accuracy_score,classification_report\n",
    "\n",
    "petal={0:\"setosha\",1:\"versicolor\",2:\"verginica\"}\n",
    "iris=datasets.load_iris()\n",
    "fe=iris.data\n",
    "la=iris.target\n",
    "fe_train,fe_test,la_train,la_test=train_test_split(fe,la)\n",
    "kn=KNeighborsClassifier().fit(fe_train,la_train)\n",
    "pr=kn.predict(fe_test)\n",
    "print(accuracy_score(la_test,pr))\n",
    "print(classification_report(la_test,pr))\n",
    "for x,y in zip(pr,la_test):\n",
    "    if x==y:\n",
    "        print(f\"correct prediction {x} {petal[x]}\")\n",
    "    else:\n",
    "        print(f\"wrong prediction predicted {x} {petal[x]} correct {y} {petal[y]}\")"
   ]
  },
  {
   "cell_type": "code",
   "execution_count": null,
   "metadata": {},
   "outputs": [],
   "source": []
  }
 ],
 "metadata": {
  "kernelspec": {
   "display_name": "Python 3",
   "language": "python",
   "name": "python3"
  },
  "language_info": {
   "codemirror_mode": {
    "name": "ipython",
    "version": 3
   },
   "file_extension": ".py",
   "mimetype": "text/x-python",
   "name": "python",
   "nbconvert_exporter": "python",
   "pygments_lexer": "ipython3",
   "version": "3.6.8"
  }
 },
 "nbformat": 4,
 "nbformat_minor": 2
}
