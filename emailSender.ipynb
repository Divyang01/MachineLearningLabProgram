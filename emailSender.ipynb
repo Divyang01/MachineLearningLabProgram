{
 "cells": [
  {
   "cell_type": "code",
   "execution_count": null,
   "metadata": {},
   "outputs": [],
   "source": [
    "import smtplib\n",
    "import getpass\n",
    "\n",
    "from email.mime.multipart import MIMEMultipart\n",
    "from email.mime.text import MIMEText\n",
    "\n",
    "username = input(\"enter the email ID:\")\n",
    "password = getpass.getpass(\"enter your password:\")\n",
    "receiver = input(\"enter the receiver email ID\")\n",
    "subject = input(\"enter sub name \")\n",
    "message = input(\"enter the full contents\")\n",
    "\n",
    "msgmime= MIMEMultipart()\n",
    "\n",
    "msgmime['from']=username\n",
    "msgmime['To']= receiver\n",
    "msgmime['subject'] = subject\n",
    "\n",
    "msgmime.attach(MIMEText(message,'plain'))\n",
    "\n",
    "try:\n",
    "    smtp = smtplib.SMTP('smtp.gmail.com',587)\n",
    "    \n",
    "    smtp.starttls()\n",
    "    \n",
    "    smtp.login(username,password)\n",
    "    \n",
    "    smtp.sendmail(username,receiver,msgmime.as_string())\n",
    "    print(\"email sent suceefully!!!!! \")\n",
    "    \n",
    "    smtp.quit()\n",
    "    \n",
    "except smtplib.SMTPAuthenticationError:\n",
    "    print(\"invalid usrname or password\")\n",
    "    \n",
    "    \n",
    "    "
   ]
  },
  {
   "cell_type": "code",
   "execution_count": 6,
   "metadata": {},
   "outputs": [
    {
     "name": "stdout",
     "output_type": "stream",
     "text": [
      "['1', '3', '5', '2', '4']\n"
     ]
    }
   ],
   "source": [
    "import platform\n",
    "platform.version()\n",
    "l1=['1','3','5']\n",
    "l1.append('2')\n",
    "l1.append('4')\n",
    "print(l1)\n"
   ]
  }
 ],
 "metadata": {
  "kernelspec": {
   "display_name": "Python 3",
   "language": "python",
   "name": "python3"
  },
  "language_info": {
   "codemirror_mode": {
    "name": "ipython",
    "version": 3
   },
   "file_extension": ".py",
   "mimetype": "text/x-python",
   "name": "python",
   "nbconvert_exporter": "python",
   "pygments_lexer": "ipython3",
   "version": "3.7.2"
  }
 },
 "nbformat": 4,
 "nbformat_minor": 2
}
